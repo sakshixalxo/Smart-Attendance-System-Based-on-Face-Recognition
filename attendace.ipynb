{
 "cells": [
  {
   "cell_type": "code",
   "execution_count": 1,
   "metadata": {},
   "outputs": [
    {
     "name": "stdin",
     "output_type": "stream",
     "text": [
      "Enter Your Name:  tania\n"
     ]
    }
   ],
   "source": [
    "import cv2 \n",
    "import pickle  \n",
    "import numpy as np \n",
    "import os \n",
    "video=cv2.VideoCapture(0) \n",
    "facedetect=cv2.CascadeClassifier('C:/Users/KIIT/Desktop/Attendence system/haarcascade_frontalface_default (1).xml') \n",
    "\n",
    "faces_data=[] \n",
    "\n",
    "i=0 \n",
    "\n",
    "name=input(\"Enter Your Name: \")\n",
    "\n",
    "while True:\n",
    "    ret,frame=video.read() #\n",
    "    gray=cv2.cvtColor(frame, cv2.COLOR_BGR2GRAY) \n",
    "    faces=facedetect.detectMultiScale(gray, 1.3 ,5)\n",
    "    \n",
    "    for (x,y,w,h) in faces:\n",
    "        crop_img=frame[y:y+h, x:x+w, :] \n",
    "        resized_img=cv2.resize(crop_img, (50,50))\n",
    "        if len(faces_data)<=100 and i%10==0:\n",
    "            faces_data.append(resized_img)\n",
    "        i=i+2\n",
    "        cv2.putText(frame, str(len(faces_data)), (50,50), cv2.FONT_HERSHEY_COMPLEX, 1, (50,50,255), 1) \n",
    "        cv2.rectangle(frame, (x,y), (x+w, y+h), (50,50,255), 1) \n",
    "    cv2.imshow(\"Frame\",frame)\n",
    "    k=cv2.waitKey(1)\n",
    "    if k==ord('q') or len(faces_data)==100:\n",
    "        break\n",
    "video.release()\n",
    "cv2.destroyAllWindows()\n",
    "\n",
    "faces_data=np.asarray(faces_data)\n",
    "faces_data=faces_data.reshape(100, -1)\n",
    "\n",
    "if 'names.pkl' not in os.listdir(\"C:/Users/KIIT/Desktop/Attendence system\"):\n",
    "    names=[name]*100\n",
    "    with open('C:/Users/KIIT/Desktop/Attendence system/names.pkl', 'wb') as f:\n",
    "        pickle.dump(names, f)\n",
    "else:\n",
    "    with open('C:/Users/KIIT/Desktop/Attendence system/names.pkl', 'rb') as f:\n",
    "        names=pickle.load(f)\n",
    "    names=names+[name]*100\n",
    "    with open('C:/Users/KIIT/Desktop/Attendence system/names.pkl', 'wb') as f:\n",
    "        pickle.dump(names, f)\n",
    "\n",
    "if 'faces_data.pkl' not in os.listdir('C:/Users/KIIT/Desktop/Attendence system'):\n",
    "    with open('C:/Users/KIIT/Desktop/Attendence system/faces_data.pkl', 'wb') as f:\n",
    "        pickle.dump(faces_data, f)\n",
    "else:\n",
    "    with open('C:/Users/KIIT/Desktop/Attendence system/faces_data.pkl', 'rb') as f:\n",
    "        faces=pickle.load(f)\n",
    "    faces=np.append(faces, faces_data, axis=0)\n",
    "    with open('C:/Users/KIIT/Desktop/Attendence system/faces_data.pkl', 'wb') as f:\n",
    "        pickle.dump(faces, f)\n"
   ]
  },
  {
   "cell_type": "code",
   "execution_count": 2,
   "metadata": {},
   "outputs": [
    {
     "name": "stdout",
     "output_type": "stream",
     "text": [
      "Shape of Faces matrix -->  (100, 7500)\n"
     ]
    },
    {
     "ename": "error",
     "evalue": "OpenCV(4.9.0) D:\\a\\opencv-python\\opencv-python\\opencv\\modules\\imgproc\\src\\color.cpp:196: error: (-215:Assertion failed) !_src.empty() in function 'cv::cvtColor'\n",
     "output_type": "error",
     "traceback": [
      "\u001b[1;31m---------------------------------------------------------------------------\u001b[0m",
      "\u001b[1;31merror\u001b[0m                                     Traceback (most recent call last)",
      "Cell \u001b[1;32mIn[2], line 32\u001b[0m\n\u001b[0;32m     30\u001b[0m \u001b[38;5;28;01mwhile\u001b[39;00m \u001b[38;5;28;01mTrue\u001b[39;00m:\n\u001b[0;32m     31\u001b[0m     ret, frame \u001b[38;5;241m=\u001b[39m video\u001b[38;5;241m.\u001b[39mread()\n\u001b[1;32m---> 32\u001b[0m     gray \u001b[38;5;241m=\u001b[39m \u001b[43mcv2\u001b[49m\u001b[38;5;241;43m.\u001b[39;49m\u001b[43mcvtColor\u001b[49m\u001b[43m(\u001b[49m\u001b[43mframe\u001b[49m\u001b[43m,\u001b[49m\u001b[43m \u001b[49m\u001b[43mcv2\u001b[49m\u001b[38;5;241;43m.\u001b[39;49m\u001b[43mCOLOR_BGR2GRAY\u001b[49m\u001b[43m)\u001b[49m\n\u001b[0;32m     33\u001b[0m     faces \u001b[38;5;241m=\u001b[39m facedetect\u001b[38;5;241m.\u001b[39mdetectMultiScale(gray, \u001b[38;5;241m1.3\u001b[39m, \u001b[38;5;241m5\u001b[39m)\n\u001b[0;32m     34\u001b[0m     \u001b[38;5;28;01mfor\u001b[39;00m (x, y, w, h) \u001b[38;5;129;01min\u001b[39;00m faces:\n",
      "\u001b[1;31merror\u001b[0m: OpenCV(4.9.0) D:\\a\\opencv-python\\opencv-python\\opencv\\modules\\imgproc\\src\\color.cpp:196: error: (-215:Assertion failed) !_src.empty() in function 'cv::cvtColor'\n"
     ]
    }
   ],
   "source": [
    "from sklearn.neighbors import KNeighborsClassifier\n",
    "import cv2\n",
    "import pickle\n",
    "import numpy as np\n",
    "import os\n",
    "import csv\n",
    "import time\n",
    "from datetime import datetime\n",
    "\n",
    "from win32com.client import Dispatch\n",
    "\n",
    "def speak(str1):\n",
    "    speak = Dispatch((\"SAPI.SpVoice\"))\n",
    "    speak.Speak(str1)\n",
    "\n",
    "video = cv2.VideoCapture(0)\n",
    "facedetect = cv2.CascadeClassifier(\"C:/Users/KIIT/Desktop/Attendence system/haarcascade_frontalface_default (1).xml\")\n",
    "\n",
    "with open('C:/Users/KIIT/Desktop/Attendence system/names.pkl', 'rb') as w:\n",
    "    LABELS = pickle.load(w)\n",
    "with open('C:/Users/KIIT/Desktop/Attendence system/faces_data.pkl', 'rb') as f:\n",
    "    FACES = pickle.load(f)\n",
    "\n",
    "print('Shape of Faces matrix --> ', FACES.shape)\n",
    "knn = KNeighborsClassifier(n_neighbors=5)\n",
    "knn.fit(FACES[:600,:7500], LABELS[:600])\n",
    "\n",
    "COL_NAMES = ['NAME', 'TIME']\n",
    "\n",
    "while True:\n",
    "    ret, frame = video.read()\n",
    "    gray = cv2.cvtColor(frame, cv2.COLOR_BGR2GRAY)\n",
    "    faces = facedetect.detectMultiScale(gray, 1.3, 5)\n",
    "    for (x, y, w, h) in faces:\n",
    "        crop_img = frame[y:y+h, x:x+w, :]\n",
    "        resized_img = cv2.resize(crop_img, (50, 50)).flatten().reshape(1, -1)\n",
    "        output = knn.predict(resized_img)\n",
    "        ts = time.time()\n",
    "        date = datetime.fromtimestamp(ts).strftime(\"%d-%m-%Y\")\n",
    "        timestamp = datetime.fromtimestamp(ts).strftime(\"%H:%M-%S\")\n",
    "        exist = os.path.isfile(\"Attendance/Attendance_\" + date + \".csv\")\n",
    "        cv2.rectangle(frame, (x, y), (x+w, y+h), (0, 0, 255), 1)\n",
    "        cv2.rectangle(frame, (x, y), (x+w, y+h), (50, 50, 255), 2)\n",
    "        cv2.rectangle(frame, (x, y-40), (x+w, y), (50, 50, 255), -1)\n",
    "        cv2.putText(frame, str(output[0]), (x, y-15), cv2.FONT_HERSHEY_COMPLEX, 1, (255, 255, 255), 1)\n",
    "        cv2.rectangle(frame, (x, y), (x+w, y+h), (50, 50, 255), 1)\n",
    "        attendance = [str(output[0]), str(timestamp)]\n",
    "    cv2.imshow(\"Frame\", frame)\n",
    "    k = cv2.waitKey(1)\n",
    "    if k == ord('o'):\n",
    "        speak(\"Attendance Taken..\")\n",
    "        time.sleep(5)\n",
    "        if exist:\n",
    "            with open(\"Attendance/Attendance_\" + date + \".csv\", \"+a\") as csvfile:\n",
    "                writer = csv.writer(csvfile)\n",
    "                writer.writerow(attendance)\n",
    "            csvfile.close()\n",
    "        else:\n",
    "            with open(\"Attendance/Attendance_\" + date + \".csv\", \"+a\") as csvfile:\n",
    "                writer = csv.writer(csvfile)\n",
    "                writer.writerow(COL_NAMES)\n",
    "                writer.writerow(attendance)\n",
    "            csvfile.close()\n",
    "    if k == ord('q'):\n",
    "        break\n",
    "\n",
    "video.release()\n",
    "cv2.destroyAllWindows()"
   ]
  },
  {
   "cell_type": "code",
   "execution_count": null,
   "metadata": {},
   "outputs": [],
   "source": []
  }
 ],
 "metadata": {
  "kernelspec": {
   "display_name": "Python 3 (ipykernel)",
   "language": "python",
   "name": "python3"
  },
  "language_info": {
   "codemirror_mode": {
    "name": "ipython",
    "version": 3
   },
   "file_extension": ".py",
   "mimetype": "text/x-python",
   "name": "python",
   "nbconvert_exporter": "python",
   "pygments_lexer": "ipython3",
   "version": "3.9.18"
  }
 },
 "nbformat": 4,
 "nbformat_minor": 4
}
